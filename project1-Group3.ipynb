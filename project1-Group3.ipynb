{
 "cells": [
  {
   "cell_type": "code",
   "execution_count": null,
   "id": "f35a4fe1",
   "metadata": {},
   "outputs": [],
   "source": [
    "# Dependencies and Setup\n",
    "import matplotlib.pyplot as plt\n",
    "import pandas as pd\n",
    "import numpy as np\n",
    "import requests\n",
    "import time\n",
    "import hvplot.pandas\n",
    "import json\n",
    "import holoviews as hv\n",
    "from scipy.stats import linregress\n",
    "\n",
    "# Impor the OpenWeatherMap API key\n",
    "from api_keys import weather_api_key\n",
    "\n",
    "# Import citipy to determine the cities based on latitude and longitude\n",
    "from citipy import citipy\n",
    "\n",
    "# Import API key\n",
    "from api_keys import geoapify_key"
   ]
  },
  {
   "cell_type": "code",
   "execution_count": null,
   "id": "151b2fcc",
   "metadata": {},
   "outputs": [],
   "source": [
    "##Number of rides according to the weather? Ricardo"
   ]
  },
  {
   "cell_type": "code",
   "execution_count": null,
   "id": "cb5c4171",
   "metadata": {},
   "outputs": [],
   "source": [
    "##What hours of the day or in what weather are the peak requests? Lina"
   ]
  },
  {
   "cell_type": "code",
   "execution_count": null,
   "id": "143477bb",
   "metadata": {},
   "outputs": [],
   "source": [
    "##Which is the destination with the most rides?Kevin"
   ]
  },
  {
   "cell_type": "code",
   "execution_count": null,
   "id": "89274320",
   "metadata": {},
   "outputs": [],
   "source": [
    "##Uber Fares depend on different times(day/night/day of week), duration(long/short)? Kevin"
   ]
  },
  {
   "cell_type": "code",
   "execution_count": null,
   "id": "e891dc06",
   "metadata": {},
   "outputs": [],
   "source": [
    "##Which kind of city area(downtown, industry,financial central…) has the most uber request? Lina"
   ]
  },
  {
   "cell_type": "code",
   "execution_count": null,
   "id": "164a5713",
   "metadata": {},
   "outputs": [],
   "source": [
    "##Any relation between public transportation line and uber pickup and dropoff location? Kevin"
   ]
  },
  {
   "cell_type": "code",
   "execution_count": null,
   "id": "15db2a00",
   "metadata": {},
   "outputs": [],
   "source": [
    "##Price surge? In relation to time of the day, rush hour or weather Zinny"
   ]
  },
  {
   "cell_type": "code",
   "execution_count": null,
   "id": "59735351",
   "metadata": {},
   "outputs": [],
   "source": [
    "##Distribution of the rides by weekdays? Ricardo"
   ]
  },
  {
   "cell_type": "code",
   "execution_count": null,
   "id": "0fccb9c6",
   "metadata": {},
   "outputs": [],
   "source": [
    "##Do people avoid rides on sunny days? Zinny"
   ]
  },
  {
   "cell_type": "code",
   "execution_count": null,
   "id": "2660c8cb",
   "metadata": {},
   "outputs": [],
   "source": [
    "##What are the earnings of Uber drivers based on factors such as time of day, location, or type of vehicle used?Lina"
   ]
  }
 ],
 "metadata": {
  "kernelspec": {
   "display_name": "Python 3 (ipykernel)",
   "language": "python",
   "name": "python3"
  },
  "language_info": {
   "codemirror_mode": {
    "name": "ipython",
    "version": 3
   },
   "file_extension": ".py",
   "mimetype": "text/x-python",
   "name": "python",
   "nbconvert_exporter": "python",
   "pygments_lexer": "ipython3",
   "version": "3.7.13"
  }
 },
 "nbformat": 4,
 "nbformat_minor": 5
}
